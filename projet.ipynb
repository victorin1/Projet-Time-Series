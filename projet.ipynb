{
 "cells": [
  {
   "cell_type": "code",
   "execution_count": 2,
   "id": "a3f11667",
   "metadata": {},
   "outputs": [
    {
     "name": "stderr",
     "output_type": "stream",
     "text": [
      "C:\\Users\\mathi\\AppData\\Local\\Temp\\ipykernel_14308\\2870146489.py:4: FutureWarning: You are using `torch.load` with `weights_only=False` (the current default value), which uses the default pickle module implicitly. It is possible to construct malicious pickle data which will execute arbitrary code during unpickling (See https://github.com/pytorch/pytorch/blob/main/SECURITY.md#untrusted-models for more details). In a future release, the default value for `weights_only` will be flipped to `True`. This limits the functions that could be executed during unpickling. Arbitrary objects will no longer be allowed to be loaded via this mode unless they are explicitly allowlisted by the user via `torch.serialization.add_safe_globals`. We recommend you start setting `weights_only=True` for any use case where you don't have full control of the loaded file. Please open an issue on GitHub for any issues related to this experimental feature.\n",
      "  model = torch.load('logs/best_checkpoints/SWaT_parameters.pt', map_location=device)\n"
     ]
    },
    {
     "data": {
      "text/plain": [
       "AnomalyTransformer(\n",
       "  (linear_embedding): Linear(in_features=700, out_features=512, bias=True)\n",
       "  (transformer_encoder): TransformerEncoder(\n",
       "    (encoder_layers): ModuleList(\n",
       "      (0-5): 6 x EncoderLayer(\n",
       "        (attention_layer): MultiHeadAttentionLayer(\n",
       "          (word_fc_layers): ModuleList(\n",
       "            (0-2): 3 x Linear(in_features=512, out_features=512, bias=True)\n",
       "          )\n",
       "          (output_fc_layer): Linear(in_features=512, out_features=512, bias=True)\n",
       "        )\n",
       "        (feed_forward_layer): PositionWiseFeedForwardLayer(\n",
       "          (first_fc_layer): Linear(in_features=512, out_features=2048, bias=True)\n",
       "          (second_fc_layer): Linear(in_features=2048, out_features=512, bias=True)\n",
       "          (activation_layer): GELU(approximate='none')\n",
       "          (dropout_layer): Dropout(p=0.1, inplace=False)\n",
       "        )\n",
       "        (norm_layers): ModuleList(\n",
       "          (0-1): 2 x LayerNorm((512,), eps=1e-06, elementwise_affine=True)\n",
       "        )\n",
       "        (dropout_layer): Dropout(p=0.1, inplace=False)\n",
       "      )\n",
       "    )\n",
       "  )\n",
       "  (mlp_layers): Sequential(\n",
       "    (0): Linear(in_features=512, out_features=2048, bias=True)\n",
       "    (1): GELU(approximate='none')\n",
       "    (2): Linear(in_features=2048, out_features=14, bias=True)\n",
       "  )\n",
       ")"
      ]
     },
     "execution_count": 2,
     "metadata": {},
     "output_type": "execute_result"
    }
   ],
   "source": [
    "import torch\n",
    "device = torch.device('cuda' if torch.cuda.is_available() else 'cpu')\n",
    "\n",
    "model = torch.load('logs/best_checkpoints/SWaT_parameters.pt', map_location=device)\n",
    "for m in model.modules():\n",
    "    if isinstance(m, torch.nn.GELU) and not hasattr(m, 'approximate'):\n",
    "        m.approximate = 'none'  # ou 'tanh' si c'était le cas à l'entraînement\n",
    "\n",
    "model.to(device).eval()"
   ]
  },
  {
   "cell_type": "code",
   "execution_count": 5,
   "id": "5053f549",
   "metadata": {},
   "outputs": [],
   "source": [
    "torch.save(model.state_dict(), \"weights/SWaT_state_dict.pt\")"
   ]
  },
  {
   "cell_type": "code",
   "execution_count": null,
   "id": "f6ebbb11",
   "metadata": {},
   "outputs": [
    {
     "name": "stdout",
     "output_type": "stream",
     "text": [
      "[inféré] d_embed=512, hidden_dim=2048, n_head=8, n_layer=6, max_seq_len=512\n",
      "[inféré] patch_size=14, input_d_data=50, output_d_data=1 (bce)\n",
      "missing: []\n",
      "unexpected: []\n"
     ]
    },
    {
     "name": "stderr",
     "output_type": "stream",
     "text": [
      "C:\\Users\\mathi\\AppData\\Local\\Temp\\ipykernel_14308\\3318239491.py:8: FutureWarning: You are using `torch.load` with `weights_only=False` (the current default value), which uses the default pickle module implicitly. It is possible to construct malicious pickle data which will execute arbitrary code during unpickling (See https://github.com/pytorch/pytorch/blob/main/SECURITY.md#untrusted-models for more details). In a future release, the default value for `weights_only` will be flipped to `True`. This limits the functions that could be executed during unpickling. Arbitrary objects will no longer be allowed to be loaded via this mode unless they are explicitly allowlisted by the user via `torch.serialization.add_safe_globals`. We recommend you start setting `weights_only=True` for any use case where you don't have full control of the loaded file. Please open an issue on GitHub for any issues related to this experimental feature.\n",
      "  sd = torch.load(state_path, map_location='cpu')\n"
     ]
    }
   ],
   "source": [
    "import math\n",
    "import torch\n",
    "from collections import OrderedDict\n",
    "from models.anomaly_transformer import get_anomaly_transformer\n",
    "\n",
    "def build_from_state_dict_path(state_path, device=None):\n",
    "    device = device or torch.device('cuda' if torch.cuda.is_available() else 'cpu')\n",
    "    sd = torch.load(state_path, map_location='cpu',weights_only=True)\n",
    "    if isinstance(sd, dict) and 'state_dict' in sd:\n",
    "        sd = sd['state_dict']\n",
    "    # retire 'module.' si besoin\n",
    "    sd = OrderedDict((k.replace('module.', ''), v) for k,v in sd.items())\n",
    "\n",
    "    # --- inférences depuis les shapes ---\n",
    "    lin_w = sd['linear_embedding.weight']          # [d_embed, input_d_data*patch_size]\n",
    "    d_embed = lin_w.shape[0]\n",
    "    in_prod = lin_w.shape[1]\n",
    "\n",
    "    mlp0_w = sd['mlp_layers.0.weight']             # [hidden_dim, d_embed]\n",
    "    hidden_dim = mlp0_w.shape[0]\n",
    "\n",
    "    mlp2_w = sd['mlp_layers.2.weight']             # [output_d_data*patch_size, hidden_dim]\n",
    "    out_prod = mlp2_w.shape[0]\n",
    "\n",
    "    # relative position embedding -> [2*L-1, n_head]\n",
    "    rpe_key = next(k for k in sd.keys() if 'relative_position_embedding_table' in k)\n",
    "    rpe = sd[rpe_key]\n",
    "    max_seq_len = (rpe.shape[0] + 1) // 2\n",
    "    n_head = rpe.shape[1]\n",
    "\n",
    "    # n_layer\n",
    "    layer_ids = set()\n",
    "    for k in sd.keys():\n",
    "        if k.startswith('transformer_encoder.encoder_layers.'):\n",
    "            parts = k.split('.')\n",
    "            if len(parts) > 3 and parts[3].isdigit():\n",
    "                layer_ids.add(int(parts[3]))\n",
    "    n_layer = (max(layer_ids) + 1) if layer_ids else 6\n",
    "\n",
    "    # patch_size, input_d_data, output_d_data, type de sortie\n",
    "    g = math.gcd(in_prod, out_prod)\n",
    "    patch_size = g\n",
    "    input_d_data = in_prod // patch_size\n",
    "    output_d_data = out_prod // patch_size\n",
    "    loss_type = 'bce' if output_d_data == 1 and out_prod == patch_size else 'reconstruction'\n",
    "\n",
    "    print(f\"[inféré] d_embed={d_embed}, hidden_dim={hidden_dim}, n_head={n_head}, \"\n",
    "          f\"n_layer={n_layer}, max_seq_len={max_seq_len}\")\n",
    "    print(f\"[inféré] patch_size={patch_size}, input_d_data={input_d_data}, \"\n",
    "          f\"output_d_data={output_d_data} ({loss_type})\")\n",
    "\n",
    "    # --- reconstruction exacte ---\n",
    "    model = get_anomaly_transformer(\n",
    "        input_d_data=input_d_data,\n",
    "        output_d_data=output_d_data,\n",
    "        patch_size=patch_size,\n",
    "        d_embed=d_embed,\n",
    "        hidden_dim_rate=hidden_dim / d_embed,   # 4.0 normalement\n",
    "        max_seq_len=max_seq_len,\n",
    "        positional_encoding=None,\n",
    "        relative_position_embedding=True,\n",
    "        transformer_n_layer=n_layer,\n",
    "        transformer_n_head=n_head,\n",
    "        dropout=0.1\n",
    "    )\n",
    "\n",
    "    missing, unexpected = model.load_state_dict(sd, strict=False)\n",
    "    print(\"missing:\", missing)\n",
    "    print(\"unexpected:\", unexpected)\n",
    "\n",
    "    model.to(device).eval()\n",
    "    return model\n",
    "\n",
    "# --- utilisation ---\n",
    "device = torch.device('cuda' if torch.cuda.is_available() else 'cpu')\n",
    "model = build_from_state_dict_path(\"weights/SWaT_state_dict.pt\", device=device)"
   ]
  },
  {
   "cell_type": "code",
   "execution_count": 7,
   "id": "7daa8e01",
   "metadata": {},
   "outputs": [
    {
     "name": "stdout",
     "output_type": "stream",
     "text": [
      "torch.Size([2, 7168, 50]) → torch.Size([2, 7168, 1])\n"
     ]
    }
   ],
   "source": [
    "model.eval()\n",
    "with torch.no_grad():\n",
    "    # dummy batch: (B, n_token, d_data) avec n_token = max_seq_len*patch_size\n",
    "    n_token = model.max_seq_len * model.patch_size\n",
    "    d_data  = model.linear_embedding.in_features // model.patch_size\n",
    "    x = torch.rand(2, n_token, d_data, device=next(model.parameters()).device)\n",
    "    y = model(x)\n",
    "    print(x.shape, \"→\", y.shape)"
   ]
  },
  {
   "cell_type": "code",
   "execution_count": null,
   "id": "c99d7d4c",
   "metadata": {},
   "outputs": [],
   "source": [
    "torch.save(model.state_dict(), \"weights/SWaT_state_dict_clean.pt\")"
   ]
  }
 ],
 "metadata": {
  "kernelspec": {
   "display_name": "TSGPU",
   "language": "python",
   "name": "python3"
  },
  "language_info": {
   "codemirror_mode": {
    "name": "ipython",
    "version": 3
   },
   "file_extension": ".py",
   "mimetype": "text/x-python",
   "name": "python",
   "nbconvert_exporter": "python",
   "pygments_lexer": "ipython3",
   "version": "3.11.13"
  }
 },
 "nbformat": 4,
 "nbformat_minor": 5
}
