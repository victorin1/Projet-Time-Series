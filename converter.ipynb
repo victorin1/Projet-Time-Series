{
 "cells": [
  {
   "cell_type": "code",
   "execution_count": 1,
   "id": "af0500cc",
   "metadata": {},
   "outputs": [
    {
     "name": "stderr",
     "output_type": "stream",
     "text": [
      "c:\\Users\\victo\\anaconda3\\envs\\BERTTS\\Lib\\site-packages\\tqdm\\auto.py:21: TqdmWarning: IProgress not found. Please update jupyter and ipywidgets. See https://ipywidgets.readthedocs.io/en/stable/user_install.html\n",
      "  from .autonotebook import tqdm as notebook_tqdm\n"
     ]
    },
    {
     "name": "stdout",
     "output_type": "stream",
     "text": [
      "AnomalyTransformer(\n",
      "  (linear_embedding): Linear(in_features=700, out_features=512, bias=True)\n",
      "  (transformer_encoder): TransformerEncoder(\n",
      "    (encoder_layers): ModuleList(\n",
      "      (0-5): 6 x EncoderLayer(\n",
      "        (attention_layer): MultiHeadAttentionLayer(\n",
      "          (word_fc_layers): ModuleList(\n",
      "            (0-2): 3 x Linear(in_features=512, out_features=512, bias=True)\n",
      "          )\n",
      "          (output_fc_layer): Linear(in_features=512, out_features=512, bias=True)\n",
      "        )\n",
      "        (feed_forward_layer): PositionWiseFeedForwardLayer(\n",
      "          (first_fc_layer): Linear(in_features=512, out_features=2048, bias=True)\n",
      "          (second_fc_layer): Linear(in_features=2048, out_features=512, bias=True)\n",
      "          (activation_layer): GELU()\n",
      "          (dropout_layer): Dropout(p=0.1, inplace=False)\n",
      "        )\n",
      "        (norm_layers): ModuleList(\n",
      "          (0-1): 2 x LayerNorm((512,), eps=1e-06, elementwise_affine=True)\n",
      "        )\n",
      "        (dropout_layer): Dropout(p=0.1, inplace=False)\n",
      "      )\n",
      "    )\n",
      "  )\n",
      "  (mlp_layers): Sequential(\n",
      "    (0): Linear(in_features=512, out_features=2048, bias=True)\n",
      "    (1): GELU()\n",
      "    (2): Linear(in_features=2048, out_features=14, bias=True)\n",
      "  )\n",
      ")\n"
     ]
    },
    {
     "name": "stderr",
     "output_type": "stream",
     "text": [
      "c:\\Users\\victo\\anaconda3\\envs\\BERTTS\\Lib\\site-packages\\timm\\models\\layers\\__init__.py:48: FutureWarning: Importing from timm.models.layers is deprecated, please import via timm.layers\n",
      "  warnings.warn(f\"Importing from {__name__} is deprecated, please import via timm.layers\", FutureWarning)\n",
      "C:\\Users\\victo\\AppData\\Local\\Temp\\ipykernel_18768\\315758326.py:9: FutureWarning: You are using `torch.load` with `weights_only=False` (the current default value), which uses the default pickle module implicitly. It is possible to construct malicious pickle data which will execute arbitrary code during unpickling (See https://github.com/pytorch/pytorch/blob/main/SECURITY.md#untrusted-models for more details). In a future release, the default value for `weights_only` will be flipped to `True`. This limits the functions that could be executed during unpickling. Arbitrary objects will no longer be allowed to be loaded via this mode unless they are explicitly allowlisted by the user via `torch.serialization.add_safe_globals`. We recommend you start setting `weights_only=True` for any use case where you don't have full control of the loaded file. Please open an issue on GitHub for any issues related to this experimental feature.\n",
      "  model_old = torch.load(model_path, map_location='cpu')\n"
     ]
    }
   ],
   "source": [
    "import torch\n",
    "import sys\n",
    "from models.anomaly_transformer import get_anomaly_transformer \n",
    "\n",
    "original_gelu_repr = torch.nn.GELU.__repr__\n",
    "torch.nn.GELU.__repr__ = lambda self: \"GELU()\"\n",
    "\n",
    "model_path = \"logs/best_checkpoints/SWaT_parameters.pt\"\n",
    "model_old = torch.load(model_path, map_location='cpu')\n",
    "\n",
    "print(model_old)"
   ]
  },
  {
   "cell_type": "code",
   "execution_count": 2,
   "id": "3f145c94",
   "metadata": {},
   "outputs": [],
   "source": [
    "def convert_model_to_state_dict(model_path, state_dict_path):\n",
    "    try:\n",
    "\n",
    "        loaded_object = torch.load(model_path, map_location=torch.device('cpu'))\n",
    "        print(str(type(loaded_object)))\n",
    "\n",
    "        print(f\"Extraction du state_dict depuis le modèle complet dans '{model_path}'.\")\n",
    "        state_dict = loaded_object.state_dict()\n",
    "\n",
    "        torch.save(state_dict, state_dict_path)\n",
    "        print(f\"Le state_dict a été sauvegardé avec succès dans '{state_dict_path}'.\")\n",
    "\n",
    "    except Exception as e:\n",
    "        print(f\"Une erreur est survenue : {e}\", file=sys.stderr)\n",
    "\n",
    "def get_model_anomaly(parameter_path, input_dim, output_dim, patch_size, max_seq_len, transformer_layers, device):\n",
    "\n",
    "    model = get_anomaly_transformer(\n",
    "        input_d_data=input_dim,\n",
    "        output_d_data=output_dim, \n",
    "        patch_size=patch_size,\n",
    "        max_seq_len=max_seq_len,\n",
    "        transformer_n_layer=transformer_layers\n",
    "    )\n",
    "    model.to(device)\n",
    "    print(\"Architecture créée.\")\n",
    "\n",
    "    try:\n",
    "        state_dict = torch.load(parameter_path, map_location=device, weights_only=True)\n",
    "        model.load_state_dict(state_dict)\n",
    "        model.eval()\n",
    "        \n",
    "        print(\"\\n Modèle chargé\")\n",
    "\n",
    "        return model\n",
    "\n",
    "    except Exception as e:\n",
    "        print(f\"\\n Erreur Chargement : {e}\")"
   ]
  },
  {
   "cell_type": "code",
   "execution_count": 3,
   "id": "4589476f",
   "metadata": {},
   "outputs": [
    {
     "name": "stdout",
     "output_type": "stream",
     "text": [
      "Utilisation du device : cuda\n",
      "<class 'models.anomaly_transformer.AnomalyTransformer'>\n",
      "Extraction du state_dict depuis le modèle complet dans 'logs/best_checkpoints/SWaT_parameters.pt'.\n",
      "Le state_dict a été sauvegardé avec succès dans 'state_dict_SWAT.pt'.\n"
     ]
    },
    {
     "name": "stderr",
     "output_type": "stream",
     "text": [
      "C:\\Users\\victo\\AppData\\Local\\Temp\\ipykernel_18768\\627359956.py:4: FutureWarning: You are using `torch.load` with `weights_only=False` (the current default value), which uses the default pickle module implicitly. It is possible to construct malicious pickle data which will execute arbitrary code during unpickling (See https://github.com/pytorch/pytorch/blob/main/SECURITY.md#untrusted-models for more details). In a future release, the default value for `weights_only` will be flipped to `True`. This limits the functions that could be executed during unpickling. Arbitrary objects will no longer be allowed to be loaded via this mode unless they are explicitly allowlisted by the user via `torch.serialization.add_safe_globals`. We recommend you start setting `weights_only=True` for any use case where you don't have full control of the loaded file. Please open an issue on GitHub for any issues related to this experimental feature.\n",
      "  loaded_object = torch.load(model_path, map_location=torch.device('cpu'))\n"
     ]
    },
    {
     "name": "stdout",
     "output_type": "stream",
     "text": [
      "Architecture créée.\n",
      "\n",
      " Modèle chargé\n"
     ]
    }
   ],
   "source": [
    "output_state_dict_path = 'state_dict_SWAT.pt'\n",
    "parameter_path = \"./state_dict_SWAT.pt\"\n",
    "\n",
    "input_dim = 50        \n",
    "patch_size = 14        \n",
    "max_seq_len = 512      \n",
    "transformer_layers = 6 \n",
    "output_dim = 1\n",
    "\n",
    "device = torch.device('cuda' if torch.cuda.is_available() else 'cpu')\n",
    "print(f\"Utilisation du device : {device}\")\n",
    "\n",
    "convert_model_to_state_dict(model_path, output_state_dict_path)\n",
    "model_new = get_model_anomaly(parameter_path=parameter_path,\n",
    "                            input_dim=input_dim,\n",
    "                            output_dim=output_dim,\n",
    "                            patch_size=patch_size,\n",
    "                            max_seq_len=max_seq_len,\n",
    "                            transformer_layers=transformer_layers,\n",
    "                            device=device)"
   ]
  },
  {
   "cell_type": "code",
   "execution_count": 4,
   "id": "b303f486",
   "metadata": {},
   "outputs": [],
   "source": [
    "torch.save(model_new,\"model_SWAT.pt\")"
   ]
  }
 ],
 "metadata": {
  "kernelspec": {
   "display_name": "BERTTS",
   "language": "python",
   "name": "python3"
  },
  "language_info": {
   "codemirror_mode": {
    "name": "ipython",
    "version": 3
   },
   "file_extension": ".py",
   "mimetype": "text/x-python",
   "name": "python",
   "nbconvert_exporter": "python",
   "pygments_lexer": "ipython3",
   "version": "3.11.13"
  }
 },
 "nbformat": 4,
 "nbformat_minor": 5
}
